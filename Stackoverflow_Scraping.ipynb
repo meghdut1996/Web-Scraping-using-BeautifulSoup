{
 "cells": [
  {
   "cell_type": "code",
   "execution_count": 74,
   "metadata": {},
   "outputs": [
    {
     "name": "stdout",
     "output_type": "stream",
     "text": [
      "Enter skills that you want to scrap: Python\n",
      "Enter total page number that you want to scrap: 3\n",
      "Fetching out Python questions from all 3 pages....\n",
      "\n",
      "150 Python questions successfully scraped\n"
     ]
    }
   ],
   "source": [
    "import requests\n",
    "from bs4 import BeautifulSoup\n",
    "import pandas as pd\n",
    "\n",
    "base_url='https://stackoverflow.com/'\n",
    "\n",
    "def Scraping(tech1, page1):\n",
    "    response=requests.get(f'https://stackoverflow.com/questions/tagged/{tech1}?tab=newest&page={page1}').text\n",
    "    soup=BeautifulSoup(response,'html.parser')\n",
    "    all_questions=soup.find_all('div', class_='question-summary')\n",
    "    for i in all_questions:\n",
    "        stack_qiestion={\n",
    "        'Tech': tech1,\n",
    "        'Quesition':i.find('a', class_=\"question-hyperlink\").text.strip(),\n",
    "        'Link':base_url+i.a['href'],\n",
    "        'Views':i.find('div', class_=\"views\").text.strip(),\n",
    "        'Time':i.find('span', class_=\"relativetime\").text.strip()\n",
    "        }\n",
    "        quesition_list.append(stack_qiestion)\n",
    "    return\n",
    "    \n",
    "    \n",
    "\n",
    "try:\n",
    "    quesition_list=[]\n",
    "    tech=input('Enter skills that you want to scrap: ')\n",
    "    page=int(input('Enter total page number that you want to scrap: '))\n",
    "    print(f'Fetching out {tech} questions from all {page} pages....')\n",
    "    print(\"\")\n",
    "    for i in range(1,page+1):\n",
    "        Scraping(tech,i)\n",
    "    df=pd.DataFrame(quesition_list)\n",
    "    df.to_excel('files/Stack.xlsx', index=False)\n",
    "    print(f'{len(quesition_list)} {tech} questions successfully scraped')\n",
    "except Exception as ex:\n",
    "    print(ex)"
   ]
  }
 ],
 "metadata": {
  "kernelspec": {
   "display_name": "Python 3",
   "language": "python",
   "name": "python3"
  },
  "language_info": {
   "codemirror_mode": {
    "name": "ipython",
    "version": 3
   },
   "file_extension": ".py",
   "mimetype": "text/x-python",
   "name": "python",
   "nbconvert_exporter": "python",
   "pygments_lexer": "ipython3",
   "version": "3.7.9"
  }
 },
 "nbformat": 4,
 "nbformat_minor": 4
}
